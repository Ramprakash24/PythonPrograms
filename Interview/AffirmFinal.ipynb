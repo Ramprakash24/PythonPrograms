{
 "cells": [
  {
   "cell_type": "code",
   "execution_count": 249,
   "metadata": {},
   "outputs": [],
   "source": [
    "import pandas as pd"
   ]
  },
  {
   "cell_type": "code",
   "execution_count": 260,
   "metadata": {},
   "outputs": [],
   "source": [
    "facilities = pd.read_csv(\"./large/facilities.csv\")\n",
    "covenants = pd.read_csv(\"./large/covenants.csv\")\n",
    "loans = pd.read_csv(\"./large/loans.csv\")\n",
    "#loans.head()"
   ]
  },
  {
   "cell_type": "code",
   "execution_count": 261,
   "metadata": {},
   "outputs": [],
   "source": [
    "# Grouping the state column to a list\n",
    "covenantState = covenants.groupby('facility_id').apply(lambda x: list(x.banned_state))\n",
    "covenantState = pd.DataFrame(covenantState, columns = [\"Banned\"])\n",
    "covenantState['facility_id'] = covenantState.index\n",
    "# Grouping the max_default_likelihood\n",
    "covenantLikelihood = covenants.groupby('facility_id').max()\n",
    "covenantLikelihood = pd.DataFrame(covenantLikelihood, columns = [\"max_default_likelihood\"])\n",
    "covenantLikelihood['facility_id'] = covenantLikelihood.index\n",
    "\n",
    "# Merging covenantState and covenantLikelihood\n",
    "facilityCovenant = pd.merge(facilities,covenantState[['Banned']],left_on='id',right_on='facility_id',how='left')\n",
    "facilityCovenant = pd.merge(facilityCovenant,covenantLikelihood[['max_default_likelihood']],left_on='id',right_on='facility_id',how='left')\n",
    "facilityCovenant = facilityCovenant.sort_values('interest_rate')\n",
    "facilityCovenant = facilityCovenant.reset_index(drop=True)\n",
    "#facilityCovenant"
   ]
  },
  {
   "cell_type": "code",
   "execution_count": 262,
   "metadata": {
    "scrolled": true
   },
   "outputs": [
    {
     "name": "stderr",
     "output_type": "stream",
     "text": [
      "D:\\Softwares\\Anaconda\\lib\\site-packages\\ipykernel_launcher.py:13: SettingWithCopyWarning: \n",
      "A value is trying to be set on a copy of a slice from a DataFrame\n",
      "\n",
      "See the caveats in the documentation: http://pandas.pydata.org/pandas-docs/stable/indexing.html#indexing-view-versus-copy\n",
      "  del sys.path[0]\n"
     ]
    }
   ],
   "source": [
    "assignDictionary = {}\n",
    "for loanIndex,loanRow in loans.iterrows():\n",
    "    maxExpectedYield = 0\n",
    "    for fcIndex,fcRow in facilityCovenant.iterrows():\n",
    "        expectedYield = 0\n",
    "        if(loanRow['amount'] <= fcRow['amount']):\n",
    "            if(loanRow['default_likelihood']<=fcRow['max_default_likelihood']):\n",
    "                if(loanRow['state'] not in fcRow['Banned']):\n",
    "                    expectedYield = (1 - loanRow['default_likelihood']) * loanRow['interest_rate'] * loanRow['amount'] - loanRow['default_likelihood'] * loanRow['amount'] - fcRow['interest_rate'] * loanRow['amount']\n",
    "                    if(expectedYield > maxExpectedYield):\n",
    "                        maxExpectedYield = expectedYield\n",
    "                        assignDictionary[loanRow['id']] = [fcRow['id'],expectedYield,fcRow['amount']-loanRow['amount']]\n",
    "    #print(assignDictionary)\n",
    "    facilityCovenant['amount'][(facilityCovenant['id'] == assignDictionary[loanRow['id']][0])] = assignDictionary[loanRow['id']][2]\n",
    "#print(assignDictionary)"
   ]
  },
  {
   "cell_type": "code",
   "execution_count": 263,
   "metadata": {},
   "outputs": [],
   "source": [
    "yieldDf = pd.DataFrame(assignDictionary)\n",
    "yieldDf = yieldDf.transpose()\n",
    "#print(yieldDf)\n",
    "yieldDf = round(yieldDf.groupby(0).sum())\n",
    "yieldDf = yieldDf.reset_index()\n",
    "yieldDf.columns = ['facility_id','yield','amount']\n",
    "yieldDf = yieldDf[['facility_id','yield']]\n",
    "#yieldDf"
   ]
  },
  {
   "cell_type": "code",
   "execution_count": 264,
   "metadata": {},
   "outputs": [],
   "source": [
    "assignDf = pd.DataFrame(assignDictionary)\n",
    "assignDf = assignDf.transpose()\n",
    "assignDf = assignDf.reset_index()\n",
    "assignDf.columns = ['loan_id','facility_id','yeild','amount']\n",
    "assignDf = assignDf[['loan_id','facility_id']]\n",
    "#assignDf"
   ]
  },
  {
   "cell_type": "code",
   "execution_count": 255,
   "metadata": {},
   "outputs": [],
   "source": [
    "assignDf.to_csv('./large/assignment.csv', sep=',',index=False)\n",
    "yieldDf.to_csv('./large/yield.csv', sep=',',index=False)"
   ]
  }
 ],
 "metadata": {
  "kernelspec": {
   "display_name": "Python 3",
   "language": "python",
   "name": "python3"
  },
  "language_info": {
   "codemirror_mode": {
    "name": "ipython",
    "version": 3
   },
   "file_extension": ".py",
   "mimetype": "text/x-python",
   "name": "python",
   "nbconvert_exporter": "python",
   "pygments_lexer": "ipython3",
   "version": "3.6.5"
  }
 },
 "nbformat": 4,
 "nbformat_minor": 2
}
