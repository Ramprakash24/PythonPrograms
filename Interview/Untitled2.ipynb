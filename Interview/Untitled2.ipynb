{
 "cells": [
  {
   "cell_type": "code",
   "execution_count": 115,
   "metadata": {},
   "outputs": [],
   "source": [
    "import sklearn as sk\n",
    "import scipy.stats as sp\n",
    "import pandas as pd"
   ]
  },
  {
   "cell_type": "code",
   "execution_count": 118,
   "metadata": {},
   "outputs": [],
   "source": [
    "data = pd.read_csv(\"E:/Puls/case_cali_zips.csv\")\n",
    "data = data.dropna()"
   ]
  },
  {
   "cell_type": "code",
   "execution_count": 119,
   "metadata": {},
   "outputs": [
    {
     "name": "stdout",
     "output_type": "stream",
     "text": [
      "['zipcode', 'city', 'state', 'County', 'is_supported', 'market', 'CBSA', 'paid', 'orders', '2015 pop', 'area', 'pop density', 'AGI', 'AGI/person', 'Housing units', 'housing density', 'Businesses', 'Employees']\n"
     ]
    }
   ],
   "source": [
    "#columnNames = list(map(str,list(data)))\n",
    "print(list(data))"
   ]
  },
  {
   "cell_type": "code",
   "execution_count": 130,
   "metadata": {},
   "outputs": [
    {
     "name": "stdout",
     "output_type": "stream",
     "text": [
      "2015 pop           float64\n",
      "area               float64\n",
      "pop density        float64\n",
      "AGI                float64\n",
      "AGI/person         float64\n",
      "Housing units      float64\n",
      "housing density    float64\n",
      "Businesses         float64\n",
      "dtype: object\n"
     ]
    }
   ],
   "source": [
    "b = data.iloc[:,9:17]\n",
    "b[\"AGI/person\"] = b[\"AGI/person\"].astype(float)\n",
    "b[\"housing density\"] = b[\"housing density\"].astype(float)\n",
    "print(b.dtypes)"
   ]
  },
  {
   "cell_type": "code",
   "execution_count": 131,
   "metadata": {},
   "outputs": [],
   "source": [
    "outPut = {}\n",
    "for colName in list(b):\n",
    "    #print(data[colName].dtypes)\n",
    "    x = sp.stats.pearsonr(data[\"orders\"],b[colName])\n",
    "    outPut[colName] = x[0]"
   ]
  },
  {
   "cell_type": "code",
   "execution_count": 132,
   "metadata": {},
   "outputs": [
    {
     "name": "stdout",
     "output_type": "stream",
     "text": [
      "{'2015 pop': 0.26659491595119117, 'area': -0.22912297294903405, 'pop density': -0.1763194117431445, 'AGI': 0.33383032915236893, 'AGI/person': 0.11577887919145959, 'Housing units': 0.39100161776383413, 'housing density': -0.18606322359202648, 'Businesses': 0.5985572650260013}\n"
     ]
    }
   ],
   "source": [
    "print(outPut)"
   ]
  },
  {
   "cell_type": "code",
   "execution_count": null,
   "metadata": {},
   "outputs": [],
   "source": [
    "print(b.)"
   ]
  },
  {
   "cell_type": "code",
   "execution_count": 154,
   "metadata": {},
   "outputs": [],
   "source": [
    "from sklearn import linear_model\n",
    "from sklearn.model_selection import train_test_split\n",
    "from sklearn.metrics import mean_squared_error, r2_score"
   ]
  },
  {
   "cell_type": "code",
   "execution_count": 155,
   "metadata": {},
   "outputs": [],
   "source": [
    "X = b[list(b)]\n",
    "Y = data[\"orders\"]\n",
    "X_train, X_test, Y_train, Y_test = train_test_split(X, Y, test_size=0.3, random_state=2)"
   ]
  },
  {
   "cell_type": "code",
   "execution_count": 156,
   "metadata": {},
   "outputs": [
    {
     "data": {
      "text/plain": [
       "LinearRegression(copy_X=True, fit_intercept=True, n_jobs=1, normalize=False)"
      ]
     },
     "execution_count": 156,
     "metadata": {},
     "output_type": "execute_result"
    }
   ],
   "source": [
    "linearReg = linear_model.LinearRegression()\n",
    "linearReg.fit(X_train,Y_train)"
   ]
  },
  {
   "cell_type": "code",
   "execution_count": 157,
   "metadata": {},
   "outputs": [],
   "source": [
    "predictedValue = linearReg.predict(X_test)"
   ]
  },
  {
   "cell_type": "code",
   "execution_count": 158,
   "metadata": {},
   "outputs": [
    {
     "name": "stdout",
     "output_type": "stream",
     "text": [
      "[-5.22656486e-04 -3.70033527e-08  7.40302225e-05 -3.58410447e-06\n",
      "  6.39873498e-02  2.15085481e-03 -2.23410140e-05  3.83540300e-02]\n"
     ]
    }
   ],
   "source": [
    "print(linearReg.coef_)"
   ]
  },
  {
   "cell_type": "code",
   "execution_count": 159,
   "metadata": {},
   "outputs": [
    {
     "name": "stdout",
     "output_type": "stream",
     "text": [
      "779.4277088657174\n"
     ]
    }
   ],
   "source": [
    "print(mean_squared_error(Y_test,predictedValue))"
   ]
  },
  {
   "cell_type": "code",
   "execution_count": 160,
   "metadata": {},
   "outputs": [
    {
     "data": {
      "text/plain": [
       "0.1689152376605414"
      ]
     },
     "execution_count": 160,
     "metadata": {},
     "output_type": "execute_result"
    }
   ],
   "source": [
    "r2_score(Y_test,predictedValue)"
   ]
  },
  {
   "cell_type": "code",
   "execution_count": null,
   "metadata": {},
   "outputs": [],
   "source": []
  }
 ],
 "metadata": {
  "kernelspec": {
   "display_name": "Python 3",
   "language": "python",
   "name": "python3"
  },
  "language_info": {
   "codemirror_mode": {
    "name": "ipython",
    "version": 3
   },
   "file_extension": ".py",
   "mimetype": "text/x-python",
   "name": "python",
   "nbconvert_exporter": "python",
   "pygments_lexer": "ipython3",
   "version": "3.6.5"
  }
 },
 "nbformat": 4,
 "nbformat_minor": 2
}
