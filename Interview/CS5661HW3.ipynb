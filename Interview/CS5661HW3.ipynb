{
 "cells": [
  {
   "cell_type": "markdown",
   "metadata": {},
   "source": [
    "Ramprakash Devaradjane<br>CIN : 305829425"
   ]
  },
  {
   "cell_type": "code",
   "execution_count": 19,
   "metadata": {},
   "outputs": [],
   "source": [
    "# Importing the required packages and libraries\n",
    "%matplotlib inline\n",
    "import matplotlib.image as mpimg \n",
    "import matplotlib.pyplot as plt\n",
    "import numpy as np\n",
    "import pandas as pd\n",
    "from sklearn.metrics import accuracy_score\n",
    "from sklearn.svm import SVC\n",
    "from sklearn.model_selection import train_test_split\n",
    "from sklearn import metrics\n",
    "\n",
    "# Used for normalization\n",
    "from sklearn.preprocessing import scale\n",
    "\n",
    "# PCA decomposition\n",
    "from  sklearn.decomposition  import  PCA \n",
    "\n",
    "# Grid search\n",
    "from sklearn.model_selection import GridSearchCV"
   ]
  },
  {
   "cell_type": "code",
   "execution_count": 3,
   "metadata": {},
   "outputs": [
    {
     "data": {
      "text/plain": [
       "<matplotlib.image.AxesImage at 0x196128fd390>"
      ]
     },
     "execution_count": 3,
     "metadata": {},
     "output_type": "execute_result"
    },
    {
     "data": {
      "image/png": "[encoded data removed]",
      "text/plain": [
       "<matplotlib.figure.Figure at 0x1961170a5c0>"
      ]
     },
     "metadata": {},
     "output_type": "display_data"
    }
   ],
   "source": [
    "# Question A\n",
    "# importing the fist image to check if the images are imported properly\n",
    "img0 = mpimg.imread('C:/Users/rampr/Downloads/HW3/Face/0.jpg')\n",
    "\n",
    "plt.imshow(img0,cmap=plt.cm.gray_r,interpolation='nearest')"
   ]
  },
  {
   "cell_type": "code",
   "execution_count": 4,
   "metadata": {},
   "outputs": [
    {
     "name": "stdout",
     "output_type": "stream",
     "text": [
      "[[  0.   0.   0. ...   0.   0.   0.]\n",
      " [204. 198. 194. ... 120. 164. 167.]\n",
      " [ 86.  79.  82. ... 189. 185. 141.]\n",
      " ...\n",
      " [163. 177. 193. ...  44.  48.  53.]\n",
      " [145. 147. 151. ... 132. 114. 117.]\n",
      " [ 91.  74.  66. ...  75.  44.  46.]]\n"
     ]
    }
   ],
   "source": [
    "# The dataset contains pixels of 400 images, hence we're excluding the zeroth image\n",
    "\n",
    "# Creating an array to store the images\n",
    "df = np.zeros((400,4096))\n",
    "\n",
    "# Reading and storing the images\n",
    "for i in range (1,400):\n",
    "    img = mpimg.imread('C:/Users/rampr/Downloads/HW3/Face/'+ str(i)+'.jpg')\n",
    "    reshape = img.reshape(4096)\n",
    "    df[i] = np.copy(reshape)\n",
    "\n",
    "print(df)"
   ]
  },
  {
   "cell_type": "code",
   "execution_count": 7,
   "metadata": {},
   "outputs": [],
   "source": [
    "# Question B\n",
    "# Creating the Feature Matrix and Label:\n",
    "X = pd.DataFrame(df)\n",
    "\n",
    "# Quesstion C\n",
    "# Normalization of the feature matrix\n",
    "X = scale(X,axis=0)\n",
    "\n",
    "# Getting the labels from label.csv\n",
    "label = pd.read_csv('C:/Users/rampr/Downloads/HW3/Face/label.csv')\n",
    "Y = label['Label']"
   ]
  },
  {
   "cell_type": "code",
   "execution_count": 9,
   "metadata": {},
   "outputs": [],
   "source": [
    "# Question D\n",
    "# Splitting the dataset\n",
    "X_train, X_test, Y_train, Y_test = train_test_split(X, Y, test_size=0.25, random_state=5)"
   ]
  },
  {
   "cell_type": "code",
   "execution_count": 12,
   "metadata": {},
   "outputs": [],
   "source": [
    "# Question E\n",
    "k = 50 \n",
    "my_pca = PCA(n_components = k) \n",
    "\n",
    "# X_train_new is feature matrix of training dataset after  performing the dimensionality reduction: \n",
    "X_train_new = my_pca.fit_transform(X_train) \n",
    "X_test_new = my_pca.transform(X_test) \n"
   ]
  },
  {
   "cell_type": "code",
   "execution_count": 15,
   "metadata": {},
   "outputs": [
    {
     "name": "stdout",
     "output_type": "stream",
     "text": [
      "[16 32 39 22 29 38 21 12 23 28  9 13 29 21 10  1 36 11 39 25  8 26 19 12\n",
      " 35  7 21 20 22 14  7 33 23  0 20  1 38 25  8 23 39  2 10 13 38 25 26 18\n",
      "  4 36 26 17 13 16 38 36  4 36  5  6 14  9  7  7  9 22  6  6 24  0  4 31\n",
      " 31 37 14 22 16 34 11 15 15  0  2 25  5 34 11 18 22 11 12  1 16 24 36 33\n",
      " 32 13 38 20]\n"
     ]
    }
   ],
   "source": [
    "# Question F\n",
    "mySVM = SVC(C=1, kernel='rbf', gamma=0.0005, random_state=1)\n",
    "mySVM.fit(X_train_new, Y_train)\n",
    "mySVM_prediction = mySVM.predict(X_test_new)\n",
    "\n",
    "print(mySVM_prediction)"
   ]
  },
  {
   "cell_type": "code",
   "execution_count": 16,
   "metadata": {},
   "outputs": [
    {
     "name": "stdout",
     "output_type": "stream",
     "text": [
      "0.89\n"
     ]
    }
   ],
   "source": [
    "# Calculating the accuracy of SVM\n",
    "svm_score = accuracy_score(Y_test, mySVM_prediction)\n",
    "print(svm_score)"
   ]
  },
  {
   "cell_type": "code",
   "execution_count": 18,
   "metadata": {},
   "outputs": [
    {
     "name": "stdout",
     "output_type": "stream",
     "text": [
      "[[3 0 0 ... 0 0 0]\n",
      " [0 3 0 ... 0 0 0]\n",
      " [0 0 1 ... 0 0 0]\n",
      " ...\n",
      " [0 0 0 ... 0 0 0]\n",
      " [0 0 0 ... 0 4 0]\n",
      " [0 0 0 ... 0 0 1]]\n"
     ]
    }
   ],
   "source": [
    "# Priniting the confusion matrix\n",
    "cmSVM = metrics.confusion_matrix(Y_test, mySVM_prediction)\n",
    "print(cmSVM)"
   ]
  },
  {
   "cell_type": "code",
   "execution_count": 22,
   "metadata": {},
   "outputs": [
    {
     "name": "stdout",
     "output_type": "stream",
     "text": [
      "{'C': [0.1, 1, 10, 100, 1000.0, 5000.0, 10000.0, 50000.0, 100000.0]} \n",
      "\n",
      "0.9675\n",
      "{'C': 10}\n"
     ]
    }
   ],
   "source": [
    "# Question G\n",
    "C_param = [0.1, 1, 10, 100, 1e3, 5e3, 1e4, 5e4, 1e5]\n",
    "\n",
    "# creating a dictionary\n",
    "param_grid = dict(C = C_param)\n",
    "print(param_grid,'\\n')\n",
    "\n",
    "# Grid search model\n",
    "gridValue = GridSearchCV(SVC(kernel='rbf', random_state=1), param_grid, cv=10, scoring='accuracy')\n",
    "\n",
    "# fitting using grid\n",
    "gridValue.fit(X, Y)\n",
    "\n",
    "# Best results of grid\n",
    "print(gridValue.best_score_)\n",
    "print(gridValue.best_params_)"
   ]
  }
 ],
 "metadata": {
  "kernelspec": {
   "display_name": "Python 3",
   "language": "python",
   "name": "python3"
  },
  "language_info": {
   "codemirror_mode": {
    "name": "ipython",
    "version": 3
   },
   "file_extension": ".py",
   "mimetype": "text/x-python",
   "name": "python",
   "nbconvert_exporter": "python",
   "pygments_lexer": "ipython3",
   "version": "3.6.5"
  }
 },
 "nbformat": 4,
 "nbformat_minor": 2
}
