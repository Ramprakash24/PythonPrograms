{
 "cells": [
  {
   "cell_type": "code",
   "execution_count": 88,
   "metadata": {},
   "outputs": [],
   "source": [
    "def findMatch(inputString):\n",
    "    a = inputString.split(' ')\n",
    "    #temp = sorted(a[0])\n",
    "    #print(''.join(temp))\n",
    "    sample = dict()\n",
    "    for line in a:\n",
    "        temp = (sorted(line))\n",
    "        key = ''.join(temp)\n",
    "        if key in sample:\n",
    "            sample[key].append(line)\n",
    "        else:\n",
    "            sample[key] = [line]\n",
    "        #if line[0] in sample:\n",
    "         #   sample[line[0]].append(line[1])\n",
    "        #else:\n",
    "         #   sample[line[0]] = [line[1]]\n",
    "    for i,j in sample.items():\n",
    "        if len(j) >1:\n",
    "            print(j)"
   ]
  },
  {
   "cell_type": "code",
   "execution_count": 89,
   "metadata": {},
   "outputs": [
    {
     "name": "stdout",
     "output_type": "stream",
     "text": [
      "['the', 'het']\n",
      "['sun', 'nus']\n"
     ]
    }
   ],
   "source": [
    "inVal = \"The sun in nus het\"\n",
    "findMatch(inVal.lower())\n",
    "#print()"
   ]
  },
  {
   "cell_type": "code",
   "execution_count": 63,
   "metadata": {},
   "outputs": [
    {
     "name": "stdout",
     "output_type": "stream",
     "text": [
      "{'Ram': 30, 'Roshik': 24}\n"
     ]
    }
   ],
   "source": [
    "ram = dict()\n",
    "ram = {'Ram':26,'Roshik':24,'Ram':30}\n",
    "print(ram)"
   ]
  },
  {
   "cell_type": "code",
   "execution_count": null,
   "metadata": {},
   "outputs": [],
   "source": []
  }
 ],
 "metadata": {
  "kernelspec": {
   "display_name": "Python 3",
   "language": "python",
   "name": "python3"
  },
  "language_info": {
   "codemirror_mode": {
    "name": "ipython",
    "version": 3
   },
   "file_extension": ".py",
   "mimetype": "text/x-python",
   "name": "python",
   "nbconvert_exporter": "python",
   "pygments_lexer": "ipython3",
   "version": "3.6.5"
  }
 },
 "nbformat": 4,
 "nbformat_minor": 2
}
