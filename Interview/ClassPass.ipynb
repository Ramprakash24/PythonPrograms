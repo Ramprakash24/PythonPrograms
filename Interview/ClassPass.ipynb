{
 "cells": [
  {
   "cell_type": "code",
   "execution_count": 5,
   "metadata": {},
   "outputs": [],
   "source": [
    "def solution(N):\n",
    "    X = N + 1\n",
    "    set1 = {'A':[0]*X,'B':[0]*X,'C':[0]*X}\n",
    "    set2 = {'D':[0]*X,'E':[0]*X,'F':[0]*X,'G':[0]*X}\n",
    "    set3 = {'H':[0]*X,'J':[0]*X,'K':[0]*X}   \n",
    "    S = \"1A 2F 2C\"\n",
    "    S = S.split(\" \")\n",
    "    for i in S:\n",
    "        for key in set1:\n",
    "            if key == i[1]:\n",
    "                set1[key][int(i[0])] = 1\n",
    "     #           print(set1[key][int(i[0])])\n",
    "        for key in set2:\n",
    "            if key == i[1]:\n",
    "                set2[key][int(i[0])] = 1\n",
    "    #            print(set1[key][int(i[0])])\n",
    "        for key in set3:\n",
    "            if key == i[1]:\n",
    "                set3[key][int(i[0])] = 1\n",
    "    #            print(set1[key][int(i[0])])\n",
    "    familyCount = 0\n",
    "    for i in range(1,X):\n",
    "        if set1['A'][i] == 0 and set1['B'][i] == 0 and set1['C'][i] == 0:\n",
    "            familyCount = familyCount + 1\n",
    "        if set3['H'][i] == 0 and set3['J'][i] == 0 and set3['K'][i] == 0:\n",
    "            familyCount = familyCount + 1\n",
    "        if set2['D'][i] == 0 and set2['E'][i] == 0 and set2['F'][i] == 0:\n",
    "            familyCount = familyCount + 1\n",
    "        if set2['E'][i] == 0 and set2['F'][i] == 0 and set2['G'][i] == 0:\n",
    "            familyCount = familyCount + 1\n",
    "    return familyCount"
   ]
  },
  {
   "cell_type": "code",
   "execution_count": 6,
   "metadata": {},
   "outputs": [
    {
     "name": "stdout",
     "output_type": "stream",
     "text": [
      "4\n"
     ]
    }
   ],
   "source": [
    "v = solution(2)\n",
    "print(v)"
   ]
  },
  {
   "cell_type": "code",
   "execution_count": null,
   "metadata": {},
   "outputs": [],
   "source": []
  }
 ],
 "metadata": {
  "kernelspec": {
   "display_name": "Python 3",
   "language": "python",
   "name": "python3"
  },
  "language_info": {
   "codemirror_mode": {
    "name": "ipython",
    "version": 3
   },
   "file_extension": ".py",
   "mimetype": "text/x-python",
   "name": "python",
   "nbconvert_exporter": "python",
   "pygments_lexer": "ipython3",
   "version": "3.6.5"
  }
 },
 "nbformat": 4,
 "nbformat_minor": 2
}
