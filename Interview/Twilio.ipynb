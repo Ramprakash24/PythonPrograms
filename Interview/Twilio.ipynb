{
 "cells": [
  {
   "cell_type": "code",
   "execution_count": 19,
   "metadata": {},
   "outputs": [],
   "source": [
    "s = \"I am using hackerrank to improve programming\"\n",
    "t = \"am hackerrank to improve\"\n",
    "outputList = []\n",
    "sList = s.split()\n",
    "tList = t.split()"
   ]
  },
  {
   "cell_type": "code",
   "execution_count": 17,
   "metadata": {},
   "outputs": [
    {
     "name": "stdout",
     "output_type": "stream",
     "text": [
      "['I', 'programming', 'using']\n"
     ]
    }
   ],
   "source": [
    "outputList = list(set(sList) - set(tList))\n",
    "print(outputList)"
   ]
  },
  {
   "cell_type": "code",
   "execution_count": 18,
   "metadata": {},
   "outputs": [
    {
     "name": "stdout",
     "output_type": "stream",
     "text": [
      "Correct\n"
     ]
    }
   ],
   "source": [
    "if 'I' not in tList:\n",
    "    print(\"Correct\")"
   ]
  },
  {
   "cell_type": "code",
   "execution_count": 20,
   "metadata": {},
   "outputs": [
    {
     "name": "stdout",
     "output_type": "stream",
     "text": [
      "['I', 'using', 'programming']\n"
     ]
    }
   ],
   "source": [
    "outputList = []\n",
    "for i in sList:\n",
    "    if i not in tList:\n",
    "        outList.append(i)\n",
    "print(outList)"
   ]
  },
  {
   "cell_type": "code",
   "execution_count": 1,
   "metadata": {},
   "outputs": [
    {
     "name": "stdout",
     "output_type": "stream",
     "text": [
      "1\n"
     ]
    }
   ],
   "source": [
    "array = [1,3,46,1,3,9]\n",
    "sum = 47\n",
    "finalresult = []\n",
    "array.sort()\n",
    "j = len(array)\n",
    "i = 0\n",
    "while i != j:\n",
    "    if(array[i] + array[j-1] == sum):\n",
    "        finalresult.append([array[i],array[j-1]])\n",
    "        i = i + 1\n",
    "        j = j - 1\n",
    "    elif(array[i]+array[j-1] < sum):\n",
    "        i = i + 1\n",
    "    elif(array[i]+array[j-1] > sum):\n",
    "        j = j - 1\n",
    "print(len(finalresult))"
   ]
  },
  {
   "cell_type": "code",
   "execution_count": 7,
   "metadata": {},
   "outputs": [],
   "source": [
    "def subList(inputlist):\n",
    "    subListArray = []\n",
    "    for i in range(len(inputlist)+1):\n",
    "        for j in range(i+1,len(inputlist)+1):\n",
    "            sub = inputlist[i:j]\n",
    "            subListArray.append(sub)\n",
    "    return subListArray"
   ]
  },
  {
   "cell_type": "code",
   "execution_count": 8,
   "metadata": {},
   "outputs": [],
   "source": [
    "def sumOfSubList(inList,k):\n",
    "    outList = []\n",
    "    slicedList = subList(inList)\n",
    "    for i in slicedList:\n",
    "        if ((sum(i) % k) == 0):\n",
    "            outList.append(i)\n",
    "    return len(outList)"
   ]
  },
  {
   "cell_type": "code",
   "execution_count": 9,
   "metadata": {},
   "outputs": [
    {
     "name": "stdout",
     "output_type": "stream",
     "text": [
      "10\n"
     ]
    }
   ],
   "source": [
    "inputList = [5,10,11,9,5]\n",
    "n = 5\n",
    "print(sumOfSubList(inputList,n))"
   ]
  },
  {
   "cell_type": "code",
   "execution_count": null,
   "metadata": {},
   "outputs": [],
   "source": []
  }
 ],
 "metadata": {
  "kernelspec": {
   "display_name": "Python 3",
   "language": "python",
   "name": "python3"
  },
  "language_info": {
   "codemirror_mode": {
    "name": "ipython",
    "version": 3
   },
   "file_extension": ".py",
   "mimetype": "text/x-python",
   "name": "python",
   "nbconvert_exporter": "python",
   "pygments_lexer": "ipython3",
   "version": "3.6.5"
  }
 },
 "nbformat": 4,
 "nbformat_minor": 2
}
