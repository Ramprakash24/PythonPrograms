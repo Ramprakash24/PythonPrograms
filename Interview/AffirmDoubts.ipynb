{
 "cells": [
  {
   "cell_type": "code",
   "execution_count": 1,
   "metadata": {},
   "outputs": [],
   "source": [
    "import pandas as pd"
   ]
  },
  {
   "cell_type": "code",
   "execution_count": 52,
   "metadata": {},
   "outputs": [],
   "source": [
    "facilities = pd.read_csv(\"E:/Affirm/affirm-take-home-interview-sept-2018/small/facilities.csv\")\n",
    "#facilities.iloc[0]['id'] # to get one cell value from the dataframe\n",
    "covenants = pd.read_csv(\"E:/Affirm/affirm-take-home-interview-sept-2018/small/covenants.csv\")"
   ]
  },
  {
   "cell_type": "code",
   "execution_count": 53,
   "metadata": {},
   "outputs": [
    {
     "data": {
      "text/html": [
       "<div>\n",
       "<style scoped>\n",
       "    .dataframe tbody tr th:only-of-type {\n",
       "        vertical-align: middle;\n",
       "    }\n",
       "\n",
       "    .dataframe tbody tr th {\n",
       "        vertical-align: top;\n",
       "    }\n",
       "\n",
       "    .dataframe thead th {\n",
       "        text-align: right;\n",
       "    }\n",
       "</style>\n",
       "<table border=\"1\" class=\"dataframe\">\n",
       "  <thead>\n",
       "    <tr style=\"text-align: right;\">\n",
       "      <th></th>\n",
       "      <th>interest_rate</th>\n",
       "      <th>amount</th>\n",
       "      <th>id</th>\n",
       "      <th>default_likelihood</th>\n",
       "      <th>state</th>\n",
       "      <th>expected_yield</th>\n",
       "    </tr>\n",
       "  </thead>\n",
       "  <tbody>\n",
       "    <tr>\n",
       "      <th>0</th>\n",
       "      <td>0.15</td>\n",
       "      <td>10552</td>\n",
       "      <td>1</td>\n",
       "      <td>0.02</td>\n",
       "      <td>MO</td>\n",
       "      <td>0.0</td>\n",
       "    </tr>\n",
       "    <tr>\n",
       "      <th>1</th>\n",
       "      <td>0.15</td>\n",
       "      <td>51157</td>\n",
       "      <td>2</td>\n",
       "      <td>0.01</td>\n",
       "      <td>VT</td>\n",
       "      <td>0.0</td>\n",
       "    </tr>\n",
       "    <tr>\n",
       "      <th>2</th>\n",
       "      <td>0.35</td>\n",
       "      <td>74965</td>\n",
       "      <td>3</td>\n",
       "      <td>0.06</td>\n",
       "      <td>AL</td>\n",
       "      <td>0.0</td>\n",
       "    </tr>\n",
       "  </tbody>\n",
       "</table>\n",
       "</div>"
      ],
      "text/plain": [
       "   interest_rate  amount  id  default_likelihood state  expected_yield\n",
       "0           0.15   10552   1                0.02    MO             0.0\n",
       "1           0.15   51157   2                0.01    VT             0.0\n",
       "2           0.35   74965   3                0.06    AL             0.0"
      ]
     },
     "execution_count": 53,
     "metadata": {},
     "output_type": "execute_result"
    }
   ],
   "source": [
    "loans = pd.read_csv(\"E:/Affirm/affirm-take-home-interview-sept-2018/small/loans.csv\")\n",
    "loans['expected_yield'] = 0.0\n",
    "loans.head()"
   ]
  },
  {
   "cell_type": "code",
   "execution_count": 54,
   "metadata": {},
   "outputs": [],
   "source": [
    "loans.at[0,'expected_yield'] = ((1 - loans.iloc[0]['default_likelihood']) * loans.iloc[0]['interest_rate'] * loans.iloc[0]['amount']) - (loans.iloc[0]['default_likelihood'] * loans.iloc[0]['amount']) - (loans.iloc[0]['interest_rate'] * loans.iloc[0]['amount'])\n",
    "loans.at[1,'expected_yield'] = ((1 - loans.iloc[1]['default_likelihood']) * loans.iloc[1]['interest_rate'] * loans.iloc[1]['amount']) - (loans.iloc[1]['default_likelihood'] * loans.iloc[1]['amount']) - (loans.iloc[1]['interest_rate'] * loans.iloc[1]['amount'])\n",
    "loans.at[2,'expected_yield'] = ((1 - loans.iloc[2]['default_likelihood']) * loans.iloc[2]['interest_rate'] * loans.iloc[2]['amount']) - (loans.iloc[2]['default_likelihood'] * loans.iloc[2]['amount']) - (loans.iloc[2]['interest_rate'] * loans.iloc[2]['amount'])\n",
    "#print(1 - loans.iloc[0]['default_likelihood'])"
   ]
  },
  {
   "cell_type": "code",
   "execution_count": 55,
   "metadata": {},
   "outputs": [
    {
     "data": {
      "text/html": [
       "<div>\n",
       "<style scoped>\n",
       "    .dataframe tbody tr th:only-of-type {\n",
       "        vertical-align: middle;\n",
       "    }\n",
       "\n",
       "    .dataframe tbody tr th {\n",
       "        vertical-align: top;\n",
       "    }\n",
       "\n",
       "    .dataframe thead th {\n",
       "        text-align: right;\n",
       "    }\n",
       "</style>\n",
       "<table border=\"1\" class=\"dataframe\">\n",
       "  <thead>\n",
       "    <tr style=\"text-align: right;\">\n",
       "      <th></th>\n",
       "      <th>interest_rate</th>\n",
       "      <th>amount</th>\n",
       "      <th>id</th>\n",
       "      <th>default_likelihood</th>\n",
       "      <th>state</th>\n",
       "      <th>expected_yield</th>\n",
       "    </tr>\n",
       "  </thead>\n",
       "  <tbody>\n",
       "    <tr>\n",
       "      <th>0</th>\n",
       "      <td>0.15</td>\n",
       "      <td>10552</td>\n",
       "      <td>1</td>\n",
       "      <td>0.02</td>\n",
       "      <td>MO</td>\n",
       "      <td>-242.6960</td>\n",
       "    </tr>\n",
       "    <tr>\n",
       "      <th>1</th>\n",
       "      <td>0.15</td>\n",
       "      <td>51157</td>\n",
       "      <td>2</td>\n",
       "      <td>0.01</td>\n",
       "      <td>VT</td>\n",
       "      <td>-588.3055</td>\n",
       "    </tr>\n",
       "    <tr>\n",
       "      <th>2</th>\n",
       "      <td>0.35</td>\n",
       "      <td>74965</td>\n",
       "      <td>3</td>\n",
       "      <td>0.06</td>\n",
       "      <td>AL</td>\n",
       "      <td>-6072.1650</td>\n",
       "    </tr>\n",
       "  </tbody>\n",
       "</table>\n",
       "</div>"
      ],
      "text/plain": [
       "   interest_rate  amount  id  default_likelihood state  expected_yield\n",
       "0           0.15   10552   1                0.02    MO       -242.6960\n",
       "1           0.15   51157   2                0.01    VT       -588.3055\n",
       "2           0.35   74965   3                0.06    AL      -6072.1650"
      ]
     },
     "execution_count": 55,
     "metadata": {},
     "output_type": "execute_result"
    }
   ],
   "source": [
    "loans.head()"
   ]
  },
  {
   "cell_type": "code",
   "execution_count": null,
   "metadata": {},
   "outputs": [],
   "source": []
  },
  {
   "cell_type": "code",
   "execution_count": 40,
   "metadata": {},
   "outputs": [
    {
     "data": {
      "text/html": [
       "<div>\n",
       "<style scoped>\n",
       "    .dataframe tbody tr th:only-of-type {\n",
       "        vertical-align: middle;\n",
       "    }\n",
       "\n",
       "    .dataframe tbody tr th {\n",
       "        vertical-align: top;\n",
       "    }\n",
       "\n",
       "    .dataframe thead th {\n",
       "        text-align: right;\n",
       "    }\n",
       "</style>\n",
       "<table border=\"1\" class=\"dataframe\">\n",
       "  <thead>\n",
       "    <tr style=\"text-align: right;\">\n",
       "      <th></th>\n",
       "      <th>amount</th>\n",
       "      <th>interest_rate</th>\n",
       "      <th>id</th>\n",
       "      <th>bank_id</th>\n",
       "      <th>max_default_likelihood</th>\n",
       "      <th>facility_yeild</th>\n",
       "    </tr>\n",
       "  </thead>\n",
       "  <tbody>\n",
       "    <tr>\n",
       "      <th>0</th>\n",
       "      <td>61104.0</td>\n",
       "      <td>0.07</td>\n",
       "      <td>2</td>\n",
       "      <td>1</td>\n",
       "      <td>0.09</td>\n",
       "      <td>0.0</td>\n",
       "    </tr>\n",
       "    <tr>\n",
       "      <th>1</th>\n",
       "      <td>126122.0</td>\n",
       "      <td>0.06</td>\n",
       "      <td>1</td>\n",
       "      <td>2</td>\n",
       "      <td>0.06</td>\n",
       "      <td>0.0</td>\n",
       "    </tr>\n",
       "  </tbody>\n",
       "</table>\n",
       "</div>"
      ],
      "text/plain": [
       "     amount  interest_rate  id  bank_id  max_default_likelihood  \\\n",
       "0   61104.0           0.07   2        1                    0.09   \n",
       "1  126122.0           0.06   1        2                    0.06   \n",
       "\n",
       "   facility_yeild  \n",
       "0             0.0  \n",
       "1             0.0  "
      ]
     },
     "execution_count": 40,
     "metadata": {},
     "output_type": "execute_result"
    }
   ],
   "source": [
    "facilities['max_default_likelihood'] = 0.0\n",
    "\n",
    "facilities.at[0,'max_default_likelihood'] = 0.09\n",
    "facilities.at[1,'max_default_likelihood'] = 0.06\n",
    "facilities['facility_yeild'] = 0.0\n",
    "facilities.head()"
   ]
  },
  {
   "cell_type": "code",
   "execution_count": null,
   "metadata": {},
   "outputs": [],
   "source": []
  },
  {
   "cell_type": "code",
   "execution_count": 41,
   "metadata": {},
   "outputs": [
    {
     "data": {
      "text/html": [
       "<div>\n",
       "<style scoped>\n",
       "    .dataframe tbody tr th:only-of-type {\n",
       "        vertical-align: middle;\n",
       "    }\n",
       "\n",
       "    .dataframe tbody tr th {\n",
       "        vertical-align: top;\n",
       "    }\n",
       "\n",
       "    .dataframe thead th {\n",
       "        text-align: right;\n",
       "    }\n",
       "</style>\n",
       "<table border=\"1\" class=\"dataframe\">\n",
       "  <thead>\n",
       "    <tr style=\"text-align: right;\">\n",
       "      <th></th>\n",
       "      <th>amount</th>\n",
       "      <th>interest_rate</th>\n",
       "      <th>id</th>\n",
       "      <th>bank_id</th>\n",
       "      <th>max_default_likelihood</th>\n",
       "      <th>facility_yeild</th>\n",
       "    </tr>\n",
       "  </thead>\n",
       "  <tbody>\n",
       "    <tr>\n",
       "      <th>0</th>\n",
       "      <td>61104.0</td>\n",
       "      <td>0.07</td>\n",
       "      <td>2</td>\n",
       "      <td>1</td>\n",
       "      <td>0.09</td>\n",
       "      <td>-5884.3152</td>\n",
       "    </tr>\n",
       "    <tr>\n",
       "      <th>1</th>\n",
       "      <td>126122.0</td>\n",
       "      <td>0.06</td>\n",
       "      <td>1</td>\n",
       "      <td>2</td>\n",
       "      <td>0.06</td>\n",
       "      <td>-8021.3592</td>\n",
       "    </tr>\n",
       "  </tbody>\n",
       "</table>\n",
       "</div>"
      ],
      "text/plain": [
       "     amount  interest_rate  id  bank_id  max_default_likelihood  \\\n",
       "0   61104.0           0.07   2        1                    0.09   \n",
       "1  126122.0           0.06   1        2                    0.06   \n",
       "\n",
       "   facility_yeild  \n",
       "0      -5884.3152  \n",
       "1      -8021.3592  "
      ]
     },
     "execution_count": 41,
     "metadata": {},
     "output_type": "execute_result"
    }
   ],
   "source": [
    "facilities.at[0,'facility_yeild'] = ((1 - facilities.iloc[0]['max_default_likelihood']) * facilities.iloc[0]['interest_rate'] * facilities.iloc[0]['amount']) - (facilities.iloc[0]['max_default_likelihood'] * facilities.iloc[0]['amount']) - (facilities.iloc[0]['interest_rate'] * facilities.iloc[0]['amount'])\n",
    "facilities.at[1,'facility_yeild'] = ((1 - facilities.iloc[1]['max_default_likelihood']) * facilities.iloc[1]['interest_rate'] * facilities.iloc[1]['amount']) - (facilities.iloc[1]['max_default_likelihood'] * facilities.iloc[1]['amount']) - (facilities.iloc[1]['interest_rate'] * facilities.iloc[1]['amount'])\n",
    "facilities.head()"
   ]
  },
  {
   "cell_type": "code",
   "execution_count": 46,
   "metadata": {},
   "outputs": [
    {
     "data": {
      "text/html": [
       "<div>\n",
       "<style scoped>\n",
       "    .dataframe tbody tr th:only-of-type {\n",
       "        vertical-align: middle;\n",
       "    }\n",
       "\n",
       "    .dataframe tbody tr th {\n",
       "        vertical-align: top;\n",
       "    }\n",
       "\n",
       "    .dataframe thead th {\n",
       "        text-align: right;\n",
       "    }\n",
       "</style>\n",
       "<table border=\"1\" class=\"dataframe\">\n",
       "  <thead>\n",
       "    <tr style=\"text-align: right;\">\n",
       "      <th></th>\n",
       "      <th>id</th>\n",
       "      <th>interest_rate</th>\n",
       "      <th>max_default_likelihood</th>\n",
       "    </tr>\n",
       "  </thead>\n",
       "  <tbody>\n",
       "    <tr>\n",
       "      <th>0</th>\n",
       "      <td>2</td>\n",
       "      <td>0.07</td>\n",
       "      <td>0.09</td>\n",
       "    </tr>\n",
       "    <tr>\n",
       "      <th>1</th>\n",
       "      <td>1</td>\n",
       "      <td>0.06</td>\n",
       "      <td>0.06</td>\n",
       "    </tr>\n",
       "  </tbody>\n",
       "</table>\n",
       "</div>"
      ],
      "text/plain": [
       "   id  interest_rate  max_default_likelihood\n",
       "0   2           0.07                    0.09\n",
       "1   1           0.06                    0.06"
      ]
     },
     "execution_count": 46,
     "metadata": {},
     "output_type": "execute_result"
    }
   ],
   "source": [
    "columns = ['facilityId','facilityInterest','maxLikelihood','bannedState']\n",
    "tempTable = pd.DataFrame(columns = columns)\n",
    "tempTable = facilities[['id','interest_rate','max_default_likelihood']]\n",
    "tempTable.head()"
   ]
  },
  {
   "cell_type": "code",
   "execution_count": 51,
   "metadata": {},
   "outputs": [
    {
     "name": "stdout",
     "output_type": "stream",
     "text": [
      "0\n",
      "1\n"
     ]
    }
   ],
   "source": [
    "for index,row in facilities.iterrows():\n",
    "    print(index)"
   ]
  },
  {
   "cell_type": "code",
   "execution_count": 146,
   "metadata": {},
   "outputs": [],
   "source": [
    "facilities = pd.read_csv(\"E:/Affirm/affirm-take-home-interview-sept-2018/small/facilities.csv\")\n",
    "covenants = pd.read_csv(\"E:/Affirm/affirm-take-home-interview-sept-2018/small/covenants.csv\")\n",
    "loans = pd.read_csv(\"E:/Affirm/affirm-take-home-interview-sept-2018/small/loans.csv\")\n",
    "\n"
   ]
  },
  {
   "cell_type": "code",
   "execution_count": 157,
   "metadata": {},
   "outputs": [
    {
     "data": {
      "text/html": [
       "<div>\n",
       "<style scoped>\n",
       "    .dataframe tbody tr th:only-of-type {\n",
       "        vertical-align: middle;\n",
       "    }\n",
       "\n",
       "    .dataframe tbody tr th {\n",
       "        vertical-align: top;\n",
       "    }\n",
       "\n",
       "    .dataframe thead th {\n",
       "        text-align: right;\n",
       "    }\n",
       "</style>\n",
       "<table border=\"1\" class=\"dataframe\">\n",
       "  <thead>\n",
       "    <tr style=\"text-align: right;\">\n",
       "      <th></th>\n",
       "      <th>Banned</th>\n",
       "      <th>facility_id</th>\n",
       "    </tr>\n",
       "    <tr>\n",
       "      <th>facility_id</th>\n",
       "      <th></th>\n",
       "      <th></th>\n",
       "    </tr>\n",
       "  </thead>\n",
       "  <tbody>\n",
       "    <tr>\n",
       "      <th>1</th>\n",
       "      <td>[VT, CA]</td>\n",
       "      <td>1</td>\n",
       "    </tr>\n",
       "    <tr>\n",
       "      <th>2</th>\n",
       "      <td>[MT]</td>\n",
       "      <td>2</td>\n",
       "    </tr>\n",
       "  </tbody>\n",
       "</table>\n",
       "</div>"
      ],
      "text/plain": [
       "               Banned  facility_id\n",
       "facility_id                       \n",
       "1            [VT, CA]            1\n",
       "2                [MT]            2"
      ]
     },
     "execution_count": 157,
     "metadata": {},
     "output_type": "execute_result"
    }
   ],
   "source": [
    "covenantConcat = covenants.groupby('facility_id').apply(lambda x: list(x.banned_state))\n",
    "covenantConcat = pd.DataFrame(covenantConcat, columns = [\"Banned\"])\n",
    "covenantConcat['facility_id'] = covenantConcat.index\n",
    "covenantConcat\n"
   ]
  },
  {
   "cell_type": "code",
   "execution_count": 148,
   "metadata": {},
   "outputs": [
    {
     "data": {
      "text/html": [
       "<div>\n",
       "<style scoped>\n",
       "    .dataframe tbody tr th:only-of-type {\n",
       "        vertical-align: middle;\n",
       "    }\n",
       "\n",
       "    .dataframe tbody tr th {\n",
       "        vertical-align: top;\n",
       "    }\n",
       "\n",
       "    .dataframe thead th {\n",
       "        text-align: right;\n",
       "    }\n",
       "</style>\n",
       "<table border=\"1\" class=\"dataframe\">\n",
       "  <thead>\n",
       "    <tr style=\"text-align: right;\">\n",
       "      <th></th>\n",
       "      <th>max_default_likelihood</th>\n",
       "      <th>facility_id</th>\n",
       "    </tr>\n",
       "    <tr>\n",
       "      <th>facility_id</th>\n",
       "      <th></th>\n",
       "      <th></th>\n",
       "    </tr>\n",
       "  </thead>\n",
       "  <tbody>\n",
       "    <tr>\n",
       "      <th>1</th>\n",
       "      <td>0.06</td>\n",
       "      <td>1</td>\n",
       "    </tr>\n",
       "    <tr>\n",
       "      <th>2</th>\n",
       "      <td>0.09</td>\n",
       "      <td>2</td>\n",
       "    </tr>\n",
       "  </tbody>\n",
       "</table>\n",
       "</div>"
      ],
      "text/plain": [
       "             max_default_likelihood  facility_id\n",
       "facility_id                                     \n",
       "1                              0.06            1\n",
       "2                              0.09            2"
      ]
     },
     "execution_count": 148,
     "metadata": {},
     "output_type": "execute_result"
    }
   ],
   "source": [
    "covenantLikelihood = covenants.groupby('facility_id').max()\n",
    "covenantLikelihood = pd.DataFrame(covenantLikelihood, columns = [\"max_default_likelihood\"])\n",
    "covenantLikelihood['facility_id'] = covenantLikelihood.index\n",
    "covenantLikelihood"
   ]
  },
  {
   "cell_type": "code",
   "execution_count": 156,
   "metadata": {},
   "outputs": [
    {
     "data": {
      "text/html": [
       "<div>\n",
       "<style scoped>\n",
       "    .dataframe tbody tr th:only-of-type {\n",
       "        vertical-align: middle;\n",
       "    }\n",
       "\n",
       "    .dataframe tbody tr th {\n",
       "        vertical-align: top;\n",
       "    }\n",
       "\n",
       "    .dataframe thead th {\n",
       "        text-align: right;\n",
       "    }\n",
       "</style>\n",
       "<table border=\"1\" class=\"dataframe\">\n",
       "  <thead>\n",
       "    <tr style=\"text-align: right;\">\n",
       "      <th></th>\n",
       "      <th>amount</th>\n",
       "      <th>interest_rate</th>\n",
       "      <th>id</th>\n",
       "      <th>bank_id</th>\n",
       "      <th>Banned</th>\n",
       "      <th>max_default_likelihood</th>\n",
       "    </tr>\n",
       "  </thead>\n",
       "  <tbody>\n",
       "    <tr>\n",
       "      <th>0</th>\n",
       "      <td>126122.0</td>\n",
       "      <td>0.06</td>\n",
       "      <td>1</td>\n",
       "      <td>2</td>\n",
       "      <td>[VT, CA]</td>\n",
       "      <td>0.06</td>\n",
       "    </tr>\n",
       "    <tr>\n",
       "      <th>1</th>\n",
       "      <td>61104.0</td>\n",
       "      <td>0.07</td>\n",
       "      <td>2</td>\n",
       "      <td>1</td>\n",
       "      <td>[MT]</td>\n",
       "      <td>0.09</td>\n",
       "    </tr>\n",
       "  </tbody>\n",
       "</table>\n",
       "</div>"
      ],
      "text/plain": [
       "     amount  interest_rate  id  bank_id    Banned  max_default_likelihood\n",
       "0  126122.0           0.06   1        2  [VT, CA]                    0.06\n",
       "1   61104.0           0.07   2        1      [MT]                    0.09"
      ]
     },
     "execution_count": 156,
     "metadata": {},
     "output_type": "execute_result"
    }
   ],
   "source": [
    "facilityCovenant = pd.merge(facilities,covenantConcat[['Banned']],left_on='id',right_on='facility_id',how='left')\n",
    "facilityCovenant = pd.merge(facilityCovenant,covenantLikelihood[['max_default_likelihood']],left_on='id',right_on='facility_id',how='left')\n",
    "facilityCovenant = facilityCovenant.sort_values('interest_rate')\n",
    "facilityCovenant = facilityCovenant.reset_index(drop=True)\n",
    "facilityCovenant"
   ]
  },
  {
   "cell_type": "code",
   "execution_count": 153,
   "metadata": {},
   "outputs": [
    {
     "ename": "AttributeError",
     "evalue": "'function' object has no attribute 'iterrows'",
     "output_type": "error",
     "traceback": [
      "\u001b[1;31m---------------------------------------------------------------------------\u001b[0m",
      "\u001b[1;31mAttributeError\u001b[0m                            Traceback (most recent call last)",
      "\u001b[1;32m<ipython-input-153-719fbd1a0001>\u001b[0m in \u001b[0;36m<module>\u001b[1;34m()\u001b[0m\n\u001b[1;32m----> 1\u001b[1;33m \u001b[1;32mfor\u001b[0m \u001b[0mloanIndex\u001b[0m\u001b[1;33m,\u001b[0m\u001b[0mloanRow\u001b[0m \u001b[1;32min\u001b[0m \u001b[0mfacilityCovenant\u001b[0m\u001b[1;33m.\u001b[0m\u001b[0miterrows\u001b[0m\u001b[1;33m(\u001b[0m\u001b[1;33m)\u001b[0m\u001b[1;33m:\u001b[0m\u001b[1;33m\u001b[0m\u001b[0m\n\u001b[0m\u001b[0;32m      2\u001b[0m     \u001b[0mprint\u001b[0m\u001b[1;33m(\u001b[0m\u001b[0mloanIndex\u001b[0m\u001b[1;33m)\u001b[0m\u001b[1;33m\u001b[0m\u001b[0m\n",
      "\u001b[1;31mAttributeError\u001b[0m: 'function' object has no attribute 'iterrows'"
     ]
    }
   ],
   "source": [
    "for loanIndex,loanRow in facilityCovenant.iterrows():\n",
    "    print(loanIndex)"
   ]
  },
  {
   "cell_type": "code",
   "execution_count": 137,
   "metadata": {},
   "outputs": [
    {
     "data": {
      "text/plain": [
       "True"
      ]
     },
     "execution_count": 137,
     "metadata": {},
     "output_type": "execute_result"
    }
   ],
   "source": [
    "loans['state'][0] not in new_df['Banned']\n",
    "\n"
   ]
  },
  {
   "cell_type": "code",
   "execution_count": null,
   "metadata": {},
   "outputs": [],
   "source": []
  }
 ],
 "metadata": {
  "kernelspec": {
   "display_name": "Python 3",
   "language": "python",
   "name": "python3"
  },
  "language_info": {
   "codemirror_mode": {
    "name": "ipython",
    "version": 3
   },
   "file_extension": ".py",
   "mimetype": "text/x-python",
   "name": "python",
   "nbconvert_exporter": "python",
   "pygments_lexer": "ipython3",
   "version": "3.6.5"
  }
 },
 "nbformat": 4,
 "nbformat_minor": 2
}
