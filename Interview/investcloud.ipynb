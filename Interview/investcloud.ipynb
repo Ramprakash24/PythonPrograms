{
 "cells": [
  {
   "cell_type": "code",
   "execution_count": 31,
   "metadata": {},
   "outputs": [
    {
     "name": "stdout",
     "output_type": "stream",
     "text": [
      "[]\n"
     ]
    }
   ],
   "source": [
    "    inputVal = [\"cat\",\"boat\",\"rat\",\"hello\"] # input\n",
    "    newDict = dict() # creating a dictionary to store the occurrence of each character\n",
    "\n",
    "    # Checking for each character and adding it to the dictionary if that is the first occurrence\n",
    "    # if it is the first occurrence, then updating the value as 1 and if it is already existing, \n",
    "    # then updating the value by 1 inorder to have a track of how many occurrences have occurred so far\n",
    "\n",
    "    for i in inputVal:\n",
    "        tempVal = list(set(i)) # getting the unique values in each string\n",
    "        for j in tempVal:\n",
    "            if j in newDict:\n",
    "                newDict[j] += 1\n",
    "            else:\n",
    "                newDict[j] = 1\n",
    "    # get the maximum value in dictionary\n",
    "    #maximum = newDict.get(max(newDict, key=newDict.get))\n",
    "\n",
    "    # checking for all the keys whichever has the max value and storing it to a list\n",
    "    outputVal = []\n",
    "    for k,v in newDict.items():\n",
    "        if v == len(inputVal): # checking if each letter is present in all the strings\n",
    "            outputVal.append(k)\n",
    "\n",
    "    print(outputVal)"
   ]
  },
  {
   "cell_type": "code",
   "execution_count": 28,
   "metadata": {},
   "outputs": [
    {
     "name": "stdout",
     "output_type": "stream",
     "text": [
      "['boat', 'rat', 'cat']\n",
      "['boat', 'rat', 'cat']\n",
      "['boat', 'rat', 'cat']\n"
     ]
    }
   ],
   "source": [
    "inputVal = [\"cat\",\"boat\",\"rat\"] # input\n",
    "for i in inputVal:\n",
    "    tempVal = list(set(inputVal))\n",
    "    print(tempVal)"
   ]
  },
  {
   "cell_type": "code",
   "execution_count": null,
   "metadata": {},
   "outputs": [],
   "source": [
    "maximum = max(newDict, key=newDict.get)\n",
    "print(maximum, newDict[maximum])"
   ]
  }
 ],
 "metadata": {
  "kernelspec": {
   "display_name": "Python 3",
   "language": "python",
   "name": "python3"
  },
  "language_info": {
   "codemirror_mode": {
    "name": "ipython",
    "version": 3
   },
   "file_extension": ".py",
   "mimetype": "text/x-python",
   "name": "python",
   "nbconvert_exporter": "python",
   "pygments_lexer": "ipython3",
   "version": "3.6.5"
  }
 },
 "nbformat": 4,
 "nbformat_minor": 2
}
