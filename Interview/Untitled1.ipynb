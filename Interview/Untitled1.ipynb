{
 "cells": [
  {
   "cell_type": "code",
   "execution_count": 4,
   "metadata": {},
   "outputs": [],
   "source": [
    "def tictac(board):\n",
    "    # X Wins\n",
    "    if board[0][0] == 'X' and board[0][1] == 'X' and board[0][2] == 'X':\n",
    "        return \"X wins\"\n",
    "    elif board[1][0] == 'X' and board[1][1] == 'X' and board[1][2] == 'X':\n",
    "        return \"X wins\"\n",
    "    elif board[2][0] == 'X' and board[2][1] == 'X' and board[2][2] == 'X':\n",
    "        return \"X wins\"\n",
    "    elif board[0][0] == 'X' and board[1][0] == 'X' and board[2][0] == 'X':\n",
    "        return \"X wins\"\n",
    "    elif board[0][1] == 'X' and board[1][1] == 'X' and board[2][1] == 'X':\n",
    "        return \"X wins\"\n",
    "    elif board[0][2] == 'X' and board[1][2] == 'X' and board[2][2] == 'X':\n",
    "        return \"X wins\"\n",
    "    elif board[0][0] == 'X' and board[1][1] == 'X' and board[2][2] == 'X':\n",
    "        return \"X wins\"\n",
    "    elif board[0][2] == 'X' and board[1][1] == 'X' and board[2][0] == 'X':\n",
    "        return \"X wins\"\n",
    "    # O wins\n",
    "    elif board[0][0] == 'O' and board[0][1] == 'O' and board[0][2] == 'O':\n",
    "        return \"O wins\"\n",
    "    elif board[1][0] == 'O' and board[1][1] == 'O' and board[1][2] == 'O':\n",
    "        return \"O wins\"\n",
    "    elif board[2][0] == 'O' and board[2][1] == 'O' and board[2][2] == 'O':\n",
    "        return \"O wins\"\n",
    "    elif board[0][0] == 'O' and board[1][0] == 'O' and board[2][0] == 'O':\n",
    "        return \"O wins\"\n",
    "    elif board[0][1] == 'O' and board[1][1] == 'O' and board[2][1] == 'O':\n",
    "        return \"O wins\"\n",
    "    elif board[0][2] == 'O' and board[1][2] == 'O' and board[2][2] == 'O':\n",
    "        return \"O wins\"\n",
    "    elif board[0][0] == 'O' and board[1][1] == 'O' and board[2][2] == 'O':\n",
    "        return \"O wins\"\n",
    "    elif board[0][2] == 'O' and board[1][1] == 'O' and board[2][0] == 'O':\n",
    "        return \"O wins\"\n",
    "    else:\n",
    "        return \"Draw\"\n",
    "    "
   ]
  },
  {
   "cell_type": "code",
   "execution_count": 6,
   "metadata": {},
   "outputs": [
    {
     "data": {
      "text/plain": [
       "'X wins'"
      ]
     },
     "execution_count": 6,
     "metadata": {},
     "output_type": "execute_result"
    }
   ],
   "source": [
    "matrix = [['X','X','X'],['O','O','O'],['O','X','O']]\n",
    "tictac(matrix)"
   ]
  },
  {
   "cell_type": "code",
   "execution_count": 7,
   "metadata": {},
   "outputs": [],
   "source": [
    "# Your input has to be 3*3 array, which is lists of list, then check for eacch position\n",
    "# here I am defining the array as lists of list"
   ]
  },
  {
   "cell_type": "code",
   "execution_count": null,
   "metadata": {},
   "outputs": [],
   "source": [
    "# Change testcase for draw and check\n",
    "you're comparing the values, but not with X or O... check that also in the if condition"
   ]
  },
  {
   "cell_type": "code",
   "execution_count": null,
   "metadata": {},
   "outputs": [],
   "source": [
    "Check the if conditions... I feel some issue there\n",
    "\n",
    "shouldn't you be using and's & or's ??\n",
    "\n",
    "templist[0][2].rstrip only this position has string\n",
    "\n",
    "do strip and then you've to store it back in the same position\n",
    "\n",
    "templist[0][2] = templist[0][2].rstrip()"
   ]
  }
 ],
 "metadata": {
  "kernelspec": {
   "display_name": "Python 3",
   "language": "python",
   "name": "python3"
  },
  "language_info": {
   "codemirror_mode": {
    "name": "ipython",
    "version": 3
   },
   "file_extension": ".py",
   "mimetype": "text/x-python",
   "name": "python",
   "nbconvert_exporter": "python",
   "pygments_lexer": "ipython3",
   "version": "3.6.5"
  }
 },
 "nbformat": 4,
 "nbformat_minor": 2
}
