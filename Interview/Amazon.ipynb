{
 "cells": [
  {
   "cell_type": "code",
   "execution_count": 53,
   "metadata": {},
   "outputs": [],
   "source": [
    "import math\n",
    "def amazonProblem(numDestination,allLocations,numDeliveries):\n",
    "    temp = []\n",
    "    result = []\n",
    "    for i in range(len(allLocations)):\n",
    "        distance = math.sqrt((allLocations[i][0] ** 2) + (allLocations[i][1] ** 2))\n",
    "        temp.append([distance,allLocations[i][0],allLocations[i][1]]) # Append takes only one argument hence passing a list to it\n",
    "    sortedList = sorted(temp, key = lambda x : x[0])\n",
    "    result = sortedList[0:numDeliveries]\n",
    "    for x in result:\n",
    "        del x[0]\n",
    "    return result"
   ]
  },
  {
   "cell_type": "code",
   "execution_count": 54,
   "metadata": {},
   "outputs": [
    {
     "name": "stdout",
     "output_type": "stream",
     "text": [
      "[[2, 4], [5, 3], [3, 6]]\n"
     ]
    }
   ],
   "source": [
    "inPut = [[3,6],[2,4],[5,3],[2,7],[1,8],[7,9]]\n",
    "outPut = amazonProblem(6,inPut,3)\n",
    "print(outPut)"
   ]
  },
  {
   "cell_type": "code",
   "execution_count": 62,
   "metadata": {},
   "outputs": [],
   "source": [
    "def amazonPrimeQuestion(maxDistance,forwardList,returnList):\n",
    "    temp = []\n",
    "    for i in range(len(forwardList)):\n",
    "        if(forwardRoute[i][1] < maxDistance):\n",
    "            for j in range(len(returnList)):\n",
    "                maxVal = forwardList[i][1] + returnList[j][1]\n",
    "                if(maxVal <= maxDistance):\n",
    "                    temp.append([maxVal,forwardList[i][0],returnList[j][0]])\n",
    "    resultant = [[x[1],x[2]] for i, x in enumerate(temp) if x[0] == max(temp)[0]]\n",
    "    return resultant"
   ]
  },
  {
   "cell_type": "code",
   "execution_count": 63,
   "metadata": {},
   "outputs": [
    {
     "name": "stdout",
     "output_type": "stream",
     "text": [
      "[[1, 3], [2, 2]]\n"
     ]
    }
   ],
   "source": [
    "forwardRoute = [[1,2000],[2,4000],[3,6000],[4,9000]]\n",
    "returnRoute = [[1,2000],[2,3000],[3,5000]]\n",
    "outputList = amazonPrimeQuestion(7000,forwardRoute,returnRoute)\n",
    "print(outputList)"
   ]
  },
  {
   "cell_type": "code",
   "execution_count": null,
   "metadata": {},
   "outputs": [],
   "source": [
    "fRoute = [[1,2000],[2,4000],[3,6000],[4,9000]]\n",
    "rRoute = [[1,2000],[2,3000],[3,5000]]"
   ]
  }
 ],
 "metadata": {
  "kernelspec": {
   "display_name": "Python 3",
   "language": "python",
   "name": "python3"
  },
  "language_info": {
   "codemirror_mode": {
    "name": "ipython",
    "version": 3
   },
   "file_extension": ".py",
   "mimetype": "text/x-python",
   "name": "python",
   "nbconvert_exporter": "python",
   "pygments_lexer": "ipython3",
   "version": "3.6.5"
  }
 },
 "nbformat": 4,
 "nbformat_minor": 2
}
