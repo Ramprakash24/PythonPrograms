{
 "cells": [
  {
   "cell_type": "code",
   "execution_count": 3,
   "metadata": {},
   "outputs": [],
   "source": [
    "# Question : https://www.geeksforgeeks.org/write-a-program-to-reverse-an-array-or-string/\n",
    "def arrayReverse(array,start,end):\n",
    "    if start>= end:\n",
    "        return\n",
    "    array[start],array[end] = array[end],array[start]\n",
    "    arrayReverse(array,start+1,end-1)"
   ]
  },
  {
   "cell_type": "code",
   "execution_count": 4,
   "metadata": {},
   "outputs": [
    {
     "name": "stdout",
     "output_type": "stream",
     "text": [
      "700, 600, 500, 400, 300, 200, 100\n"
     ]
    }
   ],
   "source": [
    "arr = [100,200,300,400,500,600,700]\n",
    "arrayReverse(arr,0,len(arr)-1)\n",
    "print(*arr, sep = \", \") # prints the entire list without looping, 'sep' is how to separate value"
   ]
  },
  {
   "cell_type": "code",
   "execution_count": null,
   "metadata": {},
   "outputs": [],
   "source": []
  }
 ],
 "metadata": {
  "kernelspec": {
   "display_name": "Python 3",
   "language": "python",
   "name": "python3"
  },
  "language_info": {
   "codemirror_mode": {
    "name": "ipython",
    "version": 3
   },
   "file_extension": ".py",
   "mimetype": "text/x-python",
   "name": "python",
   "nbconvert_exporter": "python",
   "pygments_lexer": "ipython3",
   "version": "3.6.4"
  }
 },
 "nbformat": 4,
 "nbformat_minor": 2
}
