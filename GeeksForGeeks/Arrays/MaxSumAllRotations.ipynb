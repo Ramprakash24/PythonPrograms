{
 "cells": [
  {
   "cell_type": "code",
   "execution_count": 22,
   "metadata": {},
   "outputs": [],
   "source": [
    "# Question Link : https://www.geeksforgeeks.org/maximum-sum-iarri-among-rotations-given-array/\n",
    "def MaxSumAllRotations(array):\n",
    "    cum_sum = 0\n",
    "    n = len(array)\n",
    "    for i in range(n):\n",
    "        cum_sum += array[i]\n",
    "    result = cur_val = 0\n",
    "    for i in range(n):\n",
    "        cur_val += i*array[i]\n",
    "    print(cur_val)\n",
    "    for i in range(1,n):\n",
    "        next_val = cur_val - (cum_sum - array[i - 1]) + array[i - 1]*(n - 1)\n",
    "        cur_val = next_val\n",
    "        result = max(result,cur_val)\n",
    "    return result"
   ]
  },
  {
   "cell_type": "code",
   "execution_count": 23,
   "metadata": {},
   "outputs": [
    {
     "name": "stdout",
     "output_type": "stream",
     "text": [
      "11\n",
      "The maximum of the array is 29\n"
     ]
    }
   ],
   "source": [
    "arr = [8,3,1,2]\n",
    "print(\"The maximum of the array is\", MaxSumAllRotations(arr))"
   ]
  },
  {
   "cell_type": "code",
   "execution_count": null,
   "metadata": {},
   "outputs": [],
   "source": []
  }
 ],
 "metadata": {
  "kernelspec": {
   "display_name": "Python 3",
   "language": "python",
   "name": "python3"
  },
  "language_info": {
   "codemirror_mode": {
    "name": "ipython",
    "version": 3
   },
   "file_extension": ".py",
   "mimetype": "text/x-python",
   "name": "python",
   "nbconvert_exporter": "python",
   "pygments_lexer": "ipython3",
   "version": "3.6.4"
  }
 },
 "nbformat": 4,
 "nbformat_minor": 2
}
