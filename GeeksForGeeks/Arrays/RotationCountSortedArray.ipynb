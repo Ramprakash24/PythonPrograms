{
 "cells": [
  {
   "cell_type": "code",
   "execution_count": 5,
   "metadata": {},
   "outputs": [],
   "source": [
    "# Question Link : https://www.geeksforgeeks.org/find-rotation-count-rotated-sorted-array/\n",
    "def countRotations(array,low,high):\n",
    "    mid = low + int((high - low)/2)\n",
    "    if(high < low):\n",
    "        return 0\n",
    "    if(high == low):\n",
    "        return low\n",
    "    if(mid < high & array[mid + 1] < array[mid]):\n",
    "        return (mid + 1)\n",
    "    if(mid > low & array[mid] < array[mid - 1]):\n",
    "        return mid\n",
    "    if(array[mid] < array[high]):\n",
    "        return countRotations(array,low,mid - 1)\n",
    "    return countRotations(array,mid + 1, high)"
   ]
  },
  {
   "cell_type": "code",
   "execution_count": 7,
   "metadata": {},
   "outputs": [
    {
     "name": "stdout",
     "output_type": "stream",
     "text": [
      "The number of rotations required is :  2\n"
     ]
    }
   ],
   "source": [
    "arr = [15, 18, 2, 3, 6, 12]\n",
    "print(\"The number of rotations required is : \", countRotations(arr,0,len(arr) - 1))"
   ]
  },
  {
   "cell_type": "code",
   "execution_count": null,
   "metadata": {},
   "outputs": [],
   "source": []
  }
 ],
 "metadata": {
  "kernelspec": {
   "display_name": "Python 3",
   "language": "python",
   "name": "python3"
  },
  "language_info": {
   "codemirror_mode": {
    "name": "ipython",
    "version": 3
   },
   "file_extension": ".py",
   "mimetype": "text/x-python",
   "name": "python",
   "nbconvert_exporter": "python",
   "pygments_lexer": "ipython3",
   "version": "3.6.4"
  }
 },
 "nbformat": 4,
 "nbformat_minor": 2
}
