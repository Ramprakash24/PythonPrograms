{
 "cells": [
  {
   "cell_type": "code",
   "execution_count": 4,
   "metadata": {},
   "outputs": [],
   "source": [
    "def rearrangeMinMax(array):\n",
    "    n = len(array)\n",
    "    maxIndex = n - 1\n",
    "    minIndex = 0\n",
    "    maxElement = array[maxIndex] + 1\n",
    "    \n",
    "    for i in range(n):\n",
    "        if i % 2 == 0:\n",
    "            array[i] += (array[maxIndex] % maxElement) * maxElement\n",
    "            maxIndex = maxIndex - 1\n",
    "        else:\n",
    "            array[i] += (array[minIndex] % maxElement) * maxElement\n",
    "            minIndex = minIndex + 1\n",
    "    \n",
    "    for i in range(n):\n",
    "        array[i] = array[i] // maxElement\n",
    "    # single slash (/) gives the floating point value, of the division\n",
    "    # double slash (//) gives the quotient value, of the division"
   ]
  },
  {
   "cell_type": "code",
   "execution_count": 5,
   "metadata": {},
   "outputs": [
    {
     "name": "stdout",
     "output_type": "stream",
     "text": [
      "9, 1, 8, 2, 7, 3, 6, 4, 5\n"
     ]
    }
   ],
   "source": [
    "arr = [1,2,3,4,5,6,7,8,9]\n",
    "rearrangeMinMax(arr)\n",
    "print(*arr, sep = \", \") # prints the entire list without looping, 'sep' is how to separate value"
   ]
  },
  {
   "cell_type": "code",
   "execution_count": null,
   "metadata": {},
   "outputs": [],
   "source": []
  }
 ],
 "metadata": {
  "kernelspec": {
   "display_name": "Python 3",
   "language": "python",
   "name": "python3"
  },
  "language_info": {
   "codemirror_mode": {
    "name": "ipython",
    "version": 3
   },
   "file_extension": ".py",
   "mimetype": "text/x-python",
   "name": "python",
   "nbconvert_exporter": "python",
   "pygments_lexer": "ipython3",
   "version": "3.6.5"
  }
 },
 "nbformat": 4,
 "nbformat_minor": 2
}
