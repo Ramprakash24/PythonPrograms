{
 "cells": [
  {
   "cell_type": "code",
   "execution_count": 1,
   "metadata": {},
   "outputs": [],
   "source": [
    "# https://www.geeksforgeeks.org/rearrange-positive-and-negative-numbers-publish/\n",
    "def rearrange(array):\n",
    "    n = len(array)\n",
    "    i = -1\n",
    "    temp = 0\n",
    "    for j in range(n):\n",
    "        if array[j] < 0:\n",
    "            i += 1\n",
    "            array[i],array[j] = array[j],array[i]\n",
    "    positive = i + 1\n",
    "    negative = 0\n",
    "    while positive < n and negative < positive and array[negative] < 0:\n",
    "        array[negative],array[positive] = array[positive],array[negative]\n",
    "        positive += 1\n",
    "        negative += 2"
   ]
  },
  {
   "cell_type": "code",
   "execution_count": 2,
   "metadata": {},
   "outputs": [
    {
     "name": "stdout",
     "output_type": "stream",
     "text": [
      "4, -3, 5, -1, 6, -7, 2, 8, 9\n"
     ]
    }
   ],
   "source": [
    "arr = [-1, 2, -3, 4, 5, 6, -7, 8, 9]\n",
    "rearrange(arr)\n",
    "print(*arr, sep = \", \") # prints the entire list without looping, 'sep' is how to separate value"
   ]
  },
  {
   "cell_type": "code",
   "execution_count": null,
   "metadata": {},
   "outputs": [],
   "source": []
  }
 ],
 "metadata": {
  "kernelspec": {
   "display_name": "Python 3",
   "language": "python",
   "name": "python3"
  },
  "language_info": {
   "codemirror_mode": {
    "name": "ipython",
    "version": 3
   },
   "file_extension": ".py",
   "mimetype": "text/x-python",
   "name": "python",
   "nbconvert_exporter": "python",
   "pygments_lexer": "ipython3",
   "version": "3.6.4"
  }
 },
 "nbformat": 4,
 "nbformat_minor": 2
}
