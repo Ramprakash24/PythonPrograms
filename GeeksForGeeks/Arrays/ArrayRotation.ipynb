{
 "cells": [
  {
   "cell_type": "code",
   "execution_count": 9,
   "metadata": {},
   "outputs": [],
   "source": [
    "# Question Link : https://www.geeksforgeeks.org/array-rotation/\n",
    "def rotateLeftByOne(array):\n",
    "    temp = array[0];\n",
    "    for i in range(len(array)-1):\n",
    "        array[i] = array[i + 1]\n",
    "    array[len(array)-1] =  temp"
   ]
  },
  {
   "cell_type": "code",
   "execution_count": 12,
   "metadata": {},
   "outputs": [],
   "source": [
    "def rotateLeft(array,d):\n",
    "    for i in range(d):\n",
    "        rotateLeftByOne(array)"
   ]
  },
  {
   "cell_type": "code",
   "execution_count": 13,
   "metadata": {},
   "outputs": [
    {
     "name": "stdout",
     "output_type": "stream",
     "text": [
      "300, 400, 500, 600, 700, 100, 200\n"
     ]
    }
   ],
   "source": [
    "arr = [100,200,300,400,500,600,700]\n",
    "rotateLeft(arr,2)\n",
    "print(*arr, sep = \", \") # prints the entire list without looping, 'sep' is how to separate value"
   ]
  }
 ],
 "metadata": {
  "kernelspec": {
   "display_name": "Python 3",
   "language": "python",
   "name": "python3"
  },
  "language_info": {
   "codemirror_mode": {
    "name": "ipython",
    "version": 3
   },
   "file_extension": ".py",
   "mimetype": "text/x-python",
   "name": "python",
   "nbconvert_exporter": "python",
   "pygments_lexer": "ipython3",
   "version": "3.6.5"
  }
 },
 "nbformat": 4,
 "nbformat_minor": 2
}
