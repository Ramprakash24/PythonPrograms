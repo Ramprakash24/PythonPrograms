{
 "cells": [
  {
   "cell_type": "code",
   "execution_count": 11,
   "metadata": {},
   "outputs": [],
   "source": [
    "# Question Link : https://www.geeksforgeeks.org/given-a-sorted-and-rotated-array-find-if-there-is-a-pair-with-a-given-sum/\n",
    "def sumInRotatedArray(array,sum):\n",
    "    pairs = [0,0]\n",
    "    min = 0;\n",
    "    max = 0;\n",
    "    for i in range(len(array)):\n",
    "        if(array[i] > array[i+1]):\n",
    "            max = i\n",
    "            min = i + 1\n",
    "            break\n",
    "        max = i\n",
    "        min = i + 1\n",
    "    while(max >=0 & min <= len(array)):\n",
    "        if((array[max] + array[min]) == sum):\n",
    "            pairs[0] = max\n",
    "            pairs[1] = min\n",
    "            return pairs\n",
    "        elif((array[max] + array[min]) > sum):\n",
    "            max -= 1\n",
    "        else:\n",
    "            min += 1\n",
    "    pairs[0] = -1\n",
    "    pairs[1] = -1\n",
    "    return pairs"
   ]
  },
  {
   "cell_type": "code",
   "execution_count": 13,
   "metadata": {},
   "outputs": [
    {
     "name": "stdout",
     "output_type": "stream",
     "text": [
      "The pair of the sum  35 is ( 26 , 9 )\n"
     ]
    }
   ],
   "source": [
    "arr = [11, 15, 26, 38, 9, 10]\n",
    "sumValue = 35\n",
    "pair = sumInRotatedArray(arr,sumValue)\n",
    "if(pair[0] == -1 & pair[1] == -1):\n",
    "    print(\"The sum pair is NOT FOUND\")\n",
    "else:\n",
    "    print(\"The pair of the sum \",sumValue,\"is (\",arr[pair[0]],\",\",arr[pair[1]],\")\")"
   ]
  },
  {
   "cell_type": "code",
   "execution_count": null,
   "metadata": {},
   "outputs": [],
   "source": []
  }
 ],
 "metadata": {
  "kernelspec": {
   "display_name": "Python 3",
   "language": "python",
   "name": "python3"
  },
  "language_info": {
   "codemirror_mode": {
    "name": "ipython",
    "version": 3
   },
   "file_extension": ".py",
   "mimetype": "text/x-python",
   "name": "python",
   "nbconvert_exporter": "python",
   "pygments_lexer": "ipython3",
   "version": "3.6.4"
  }
 },
 "nbformat": 4,
 "nbformat_minor": 2
}
