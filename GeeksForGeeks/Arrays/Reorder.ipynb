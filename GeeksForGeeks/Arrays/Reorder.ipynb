{
 "cells": [
  {
   "cell_type": "code",
   "execution_count": 50,
   "metadata": {},
   "outputs": [],
   "source": [
    "# Question : https://www.geeksforgeeks.org/reorder-a-array-according-to-given-indexes/\n",
    "def rorder(array,indexes):\n",
    "    n = len(array)\n",
    "    temp = []\n",
    "    for i in range(n):\n",
    "        temp.insert(indexes[i],array[i])\n",
    "    #for i in range(n):\n",
    "    #    array[i] = temp[i]\n",
    "    array = temp.copy()\n",
    "    print(array)"
   ]
  },
  {
   "cell_type": "code",
   "execution_count": 51,
   "metadata": {},
   "outputs": [
    {
     "name": "stdout",
     "output_type": "stream",
     "text": [
      "[40, 60, 90, 50, 70]\n",
      "[50, 40, 70, 60, 90]\n"
     ]
    }
   ],
   "source": [
    "arr = [50,40,70,60,90]\n",
    "indexValue = [3,0,4,1,2]\n",
    "rorder(arr,indexValue)\n",
    "\n",
    "print(arr, sep = \", \") # prints the entire list without looping, 'sep' is how to separate value"
   ]
  },
  {
   "cell_type": "code",
   "execution_count": null,
   "metadata": {},
   "outputs": [],
   "source": []
  }
 ],
 "metadata": {
  "kernelspec": {
   "display_name": "Python 3",
   "language": "python",
   "name": "python3"
  },
  "language_info": {
   "codemirror_mode": {
    "name": "ipython",
    "version": 3
   },
   "file_extension": ".py",
   "mimetype": "text/x-python",
   "name": "python",
   "nbconvert_exporter": "python",
   "pygments_lexer": "ipython3",
   "version": "3.6.4"
  }
 },
 "nbformat": 4,
 "nbformat_minor": 2
}
