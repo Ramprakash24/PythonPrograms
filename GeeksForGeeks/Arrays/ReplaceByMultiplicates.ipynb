{
 "cells": [
  {
   "cell_type": "code",
   "execution_count": 1,
   "metadata": {},
   "outputs": [],
   "source": [
    "def multiplicateOfEveryElement(array):\n",
    "    previous = array[0]\n",
    "    array[0] = array[0] * array[1]\n",
    "    for i in range(1,len(array) - 1):\n",
    "        current = array[i];\n",
    "        array[i] = previous * array[i + 1]\n",
    "        previous = current\n",
    "    array[len(array) - 1] = previous * array[len(array) - 1]"
   ]
  },
  {
   "cell_type": "code",
   "execution_count": 2,
   "metadata": {},
   "outputs": [
    {
     "name": "stdout",
     "output_type": "stream",
     "text": [
      "6, 8, 15, 24, 35, 42\n"
     ]
    }
   ],
   "source": [
    "inputArray = [2,3,4,5,6,7]\n",
    "multiplicateOfEveryElement(inputArray)\n",
    "print(*inputArray, sep = \", \")"
   ]
  },
  {
   "cell_type": "code",
   "execution_count": null,
   "metadata": {},
   "outputs": [],
   "source": []
  }
 ],
 "metadata": {
  "kernelspec": {
   "display_name": "Python 3",
   "language": "python",
   "name": "python3"
  },
  "language_info": {
   "codemirror_mode": {
    "name": "ipython",
    "version": 3
   },
   "file_extension": ".py",
   "mimetype": "text/x-python",
   "name": "python",
   "nbconvert_exporter": "python",
   "pygments_lexer": "ipython3",
   "version": "3.6.5"
  }
 },
 "nbformat": 4,
 "nbformat_minor": 2
}
