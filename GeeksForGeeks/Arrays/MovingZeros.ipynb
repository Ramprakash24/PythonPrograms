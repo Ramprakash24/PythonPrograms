{
 "cells": [
  {
   "cell_type": "code",
   "execution_count": 1,
   "metadata": {},
   "outputs": [],
   "source": [
    "# Question :  https://www.geeksforgeeks.org/move-zeroes-end-array/\n",
    "def movingZeros(array):\n",
    "    count = 0\n",
    "    for i in range(len(array) - 1):\n",
    "        if(array[i] != 0):\n",
    "            array[count] = array[i]\n",
    "            count += 1\n",
    "    while count < len(array):\n",
    "        array[count] = 0\n",
    "        count += 1"
   ]
  },
  {
   "cell_type": "code",
   "execution_count": 2,
   "metadata": {},
   "outputs": [
    {
     "name": "stdout",
     "output_type": "stream",
     "text": [
      "1, 9, 8, 4, 2, 7, 6, 0, 0, 0, 0, 0\n"
     ]
    }
   ],
   "source": [
    "arr = [1, 9, 8, 4, 0, 0, 2, 7, 0, 6, 0, 9]\n",
    "movingZeros(arr)\n",
    "print(*arr, sep = \", \") # prints the entire list without looping, 'sep' is how to separate value"
   ]
  },
  {
   "cell_type": "code",
   "execution_count": null,
   "metadata": {},
   "outputs": [],
   "source": []
  }
 ],
 "metadata": {
  "kernelspec": {
   "display_name": "Python 3",
   "language": "python",
   "name": "python3"
  },
  "language_info": {
   "codemirror_mode": {
    "name": "ipython",
    "version": 3
   },
   "file_extension": ".py",
   "mimetype": "text/x-python",
   "name": "python",
   "nbconvert_exporter": "python",
   "pygments_lexer": "ipython3",
   "version": "3.6.4"
  }
 },
 "nbformat": 4,
 "nbformat_minor": 2
}
