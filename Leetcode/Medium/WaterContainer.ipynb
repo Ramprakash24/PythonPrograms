{
 "cells": [
  {
   "cell_type": "code",
   "execution_count": 4,
   "metadata": {},
   "outputs": [],
   "source": [
    "def area(heightValues,i,j):\n",
    "    return min(heightValues[i],heightValues[j]) * (j - i)"
   ]
  },
  {
   "cell_type": "code",
   "execution_count": 5,
   "metadata": {},
   "outputs": [],
   "source": [
    "# Question : https://leetcode.com/problems/container-with-most-water/description/\n",
    "def calculateArea(array):\n",
    "    maxArea = 0\n",
    "    start = 0\n",
    "    end = len(array) - 1\n",
    "    while(start < end):\n",
    "        maxArea = max(maxArea, area(array,start,end))\n",
    "        if(array[start] < array[end]):\n",
    "            start = start + 1\n",
    "        else:\n",
    "            end = end - 1\n",
    "    return maxArea"
   ]
  },
  {
   "cell_type": "code",
   "execution_count": 6,
   "metadata": {},
   "outputs": [
    {
     "name": "stdout",
     "output_type": "stream",
     "text": [
      "49\n"
     ]
    }
   ],
   "source": [
    "import time as t\n",
    "startTime = t.time()\n",
    "arr = [1,8,6,2,5,4,8,3,7]\n",
    "print(calculateArea(arr))\n",
    "endTime = t.time()"
   ]
  },
  {
   "cell_type": "code",
   "execution_count": 7,
   "metadata": {},
   "outputs": [
    {
     "name": "stdout",
     "output_type": "stream",
     "text": [
      "0.0018665790557861328\n"
     ]
    }
   ],
   "source": [
    "print(endTime - startTime)"
   ]
  },
  {
   "cell_type": "code",
   "execution_count": null,
   "metadata": {},
   "outputs": [],
   "source": []
  }
 ],
 "metadata": {
  "kernelspec": {
   "display_name": "Python 3",
   "language": "python",
   "name": "python3"
  },
  "language_info": {
   "codemirror_mode": {
    "name": "ipython",
    "version": 3
   },
   "file_extension": ".py",
   "mimetype": "text/x-python",
   "name": "python",
   "nbconvert_exporter": "python",
   "pygments_lexer": "ipython3",
   "version": "3.6.5"
  }
 },
 "nbformat": 4,
 "nbformat_minor": 2
}
