{
 "cells": [
  {
   "cell_type": "code",
   "execution_count": 8,
   "metadata": {},
   "outputs": [],
   "source": [
    "# Question : https://leetcode.com/problems/search-insert-position/description/\n",
    "import math as m\n",
    "def searchPosition(array,number):\n",
    "    i = 0\n",
    "    j = len(array)\n",
    "    if(number > array[j - 1]):\n",
    "        return j\n",
    "    if(number < array[0]):\n",
    "        return i\n",
    "    while(i < j):\n",
    "        mid = m.floor( (i + j) / 2 )\n",
    "        if(number > array[mid]):\n",
    "            i = mid + 1\n",
    "        else:\n",
    "            j = mid\n",
    "    return j"
   ]
  },
  {
   "cell_type": "code",
   "execution_count": 9,
   "metadata": {},
   "outputs": [
    {
     "name": "stdout",
     "output_type": "stream",
     "text": [
      "3\n"
     ]
    }
   ],
   "source": [
    "arr = [1,3,4,6]\n",
    "val = 5\n",
    "print(searchPosition(arr,val))"
   ]
  },
  {
   "cell_type": "code",
   "execution_count": null,
   "metadata": {},
   "outputs": [],
   "source": []
  }
 ],
 "metadata": {
  "kernelspec": {
   "display_name": "Python 3",
   "language": "python",
   "name": "python3"
  },
  "language_info": {
   "codemirror_mode": {
    "name": "ipython",
    "version": 3
   },
   "file_extension": ".py",
   "mimetype": "text/x-python",
   "name": "python",
   "nbconvert_exporter": "python",
   "pygments_lexer": "ipython3",
   "version": "3.6.5"
  }
 },
 "nbformat": 4,
 "nbformat_minor": 2
}
