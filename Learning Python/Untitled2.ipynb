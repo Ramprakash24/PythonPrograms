{
 "cells": [
  {
   "cell_type": "code",
   "execution_count": 15,
   "metadata": {},
   "outputs": [],
   "source": [
    "def findMaxDiff(array):\n",
    "    finalMax = 0\n",
    "    maxi = 0\n",
    "    i = len(array) - 1\n",
    "    j = 0\n",
    "    while j < i:\n",
    "        if array[j] < array[i]:\n",
    "            maxi = array[i] - array[j]\n",
    "            j = j + 1\n",
    "        else:\n",
    "            i = i - 1\n",
    "            j = 0\n",
    "        if maxi > finalMax:\n",
    "            finalMax = maxi\n",
    "    return finalMax"
   ]
  },
  {
   "cell_type": "code",
   "execution_count": 26,
   "metadata": {},
   "outputs": [
    {
     "name": "stdout",
     "output_type": "stream",
     "text": [
      "2\n"
     ]
    }
   ],
   "source": [
    "arr = [5,7,12,9,4]\n",
    "print(findMaxDiff1(arr))"
   ]
  },
  {
   "cell_type": "code",
   "execution_count": 25,
   "metadata": {},
   "outputs": [],
   "source": [
    "def findMaxDiff1(array):\n",
    "    finalMax = 0\n",
    "    maxi = 0\n",
    "    i = len(array) - 1\n",
    "    j = 0\n",
    "    for j in range(i):\n",
    "        if j < i:\n",
    "            if array[j] < array[i]:\n",
    "                maxi = array[i] - array[j]\n",
    "            else:\n",
    "                i = i - 1\n",
    "                j = 0\n",
    "        if maxi > finalMax:\n",
    "            finalMax = maxi\n",
    "    return finalMax"
   ]
  },
  {
   "cell_type": "code",
   "execution_count": 28,
   "metadata": {},
   "outputs": [
    {
     "name": "stdout",
     "output_type": "stream",
     "text": [
      "range(0, 5)\n",
      "range(0, 4)\n",
      "range(0, 3)\n",
      "range(0, 2)\n",
      "range(0, 1)\n"
     ]
    }
   ],
   "source": [
    "i = 5\n",
    "j = 0\n",
    "for j in range(i):\n",
    "    print(range(i))\n",
    "    i = i - 1"
   ]
  },
  {
   "cell_type": "code",
   "execution_count": null,
   "metadata": {},
   "outputs": [],
   "source": []
  }
 ],
 "metadata": {
  "kernelspec": {
   "display_name": "Python 3",
   "language": "python",
   "name": "python3"
  },
  "language_info": {
   "codemirror_mode": {
    "name": "ipython",
    "version": 3
   },
   "file_extension": ".py",
   "mimetype": "text/x-python",
   "name": "python",
   "nbconvert_exporter": "python",
   "pygments_lexer": "ipython3",
   "version": "3.6.5"
  }
 },
 "nbformat": 4,
 "nbformat_minor": 2
}
