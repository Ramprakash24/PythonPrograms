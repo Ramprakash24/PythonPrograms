{
 "cells": [
  {
   "cell_type": "code",
   "execution_count": 16,
   "metadata": {},
   "outputs": [],
   "source": [
    "def toBinary(inputNumber):\n",
    "    binaryList = []\n",
    "    while inputNumber <= 0:\n",
    "        print(\"Within wile\")\n",
    "        remainder = inputNumber % 2\n",
    "        print(remainder)\n",
    "        binaryList.append(remainder)\n",
    "        inputNumber = inputNumber / 2\n",
    "    tempList = binaryList.reverse()\n",
    "    return  ''.join(tempList) "
   ]
  },
  {
   "cell_type": "code",
   "execution_count": 17,
   "metadata": {},
   "outputs": [
    {
     "name": "stdout",
     "output_type": "stream",
     "text": [
      "[]\n"
     ]
    }
   ],
   "source": [
    "num = 45\n",
    "print(toBinary(45))"
   ]
  },
  {
   "cell_type": "code",
   "execution_count": 9,
   "metadata": {},
   "outputs": [
    {
     "name": "stdout",
     "output_type": "stream",
     "text": [
      "[2]\n"
     ]
    }
   ],
   "source": [
    "binList = []\n",
    "binList.append(2)\n",
    "print(binList)"
   ]
  },
  {
   "cell_type": "code",
   "execution_count": null,
   "metadata": {},
   "outputs": [],
   "source": [
    "def ConvertString(inputString):\n",
    "    tempList = list(string.split(\" \"))\n",
    "    tempList = tempList.sort()\n",
    "    return tempList"
   ]
  }
 ],
 "metadata": {
  "kernelspec": {
   "display_name": "Python 3",
   "language": "python",
   "name": "python3"
  },
  "language_info": {
   "codemirror_mode": {
    "name": "ipython",
    "version": 3
   },
   "file_extension": ".py",
   "mimetype": "text/x-python",
   "name": "python",
   "nbconvert_exporter": "python",
   "pygments_lexer": "ipython3",
   "version": "3.6.5"
  }
 },
 "nbformat": 4,
 "nbformat_minor": 2
}
