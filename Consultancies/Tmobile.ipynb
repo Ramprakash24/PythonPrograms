{
 "cells": [
  {
   "cell_type": "code",
   "execution_count": 2,
   "metadata": {},
   "outputs": [
    {
     "name": "stdout",
     "output_type": "stream",
     "text": [
      "{1: {'name': 'John', 'age': '27', 'sex': 'Male'}, 2: {'name': 'Marie', 'age': '22', 'sex': 'Female'}}\n"
     ]
    }
   ],
   "source": [
    "import copy\n",
    "people = {1: {'name': 'John', 'age': '27', 'sex': 'Male'},\n",
    "          2: {'name': 'Marie', 'age': '22', 'sex': 'Female'}}\n",
    "peopleCopy = copy.deepcopy(people)\n",
    "print(peopleCopy)"
   ]
  },
  {
   "cell_type": "code",
   "execution_count": 3,
   "metadata": {},
   "outputs": [],
   "source": [
    "def reverse(text):\n",
    "    if len(text) <= 1:\n",
    "        return text\n",
    "    return reverse(text[1:]) + text[0]"
   ]
  },
  {
   "cell_type": "code",
   "execution_count": 5,
   "metadata": {},
   "outputs": [
    {
     "name": "stdout",
     "output_type": "stream",
     "text": [
      "olleh\n"
     ]
    }
   ],
   "source": [
    "a = reverse(\"hello\")\n",
    "print(a)"
   ]
  },
  {
   "cell_type": "code",
   "execution_count": 6,
   "metadata": {},
   "outputs": [
    {
     "name": "stdout",
     "output_type": "stream",
     "text": [
      "10 50\n"
     ]
    }
   ],
   "source": [
    "inputList = [10,20,30,40,50]\n",
    "print(min(inputList),max(inputList))"
   ]
  },
  {
   "cell_type": "code",
   "execution_count": 18,
   "metadata": {},
   "outputs": [],
   "source": [
    "def alternateStrings(inputString): \n",
    "    inputString = 'abcdefghijklmnopqrstuvwxyz'\n",
    "    firstList = []\n",
    "    secondList = []\n",
    "    for i in range(len(inputString)):\n",
    "        if i % 2 == 0:\n",
    "    firstList.append(inputString[i])\n",
    "        else:\n",
    "    secondList.append(inputString[i])\n",
    "    outputString = ''.join(firstList+secondList)\n",
    "    return outputString"
   ]
  },
  {
   "cell_type": "code",
   "execution_count": 19,
   "metadata": {},
   "outputs": [
    {
     "name": "stdout",
     "output_type": "stream",
     "text": [
      "acegikmoqsuwybdfhjlnprtvxz\n"
     ]
    }
   ],
   "source": [
    "print(outputString)"
   ]
  },
  {
   "cell_type": "code",
   "execution_count": 12,
   "metadata": {},
   "outputs": [
    {
     "name": "stdout",
     "output_type": "stream",
     "text": [
      "['b', 'd', 'f', 'h', 'j', 'l', 'n', 'p', 'r', 't', 'v', 'x', 'z']\n"
     ]
    }
   ],
   "source": [
    "print(secondList)"
   ]
  },
  {
   "cell_type": "code",
   "execution_count": 24,
   "metadata": {},
   "outputs": [],
   "source": [
    "class CropRatio:\n",
    "\n",
    "    def __init__(self):\n",
    "        self._crops = {}\n",
    "        self._total_weight = 0\n",
    "\n",
    "    def add(self, name, crop_weight):\n",
    "        curr_crop_weight = 0\n",
    "\n",
    "        if not name in self._crops:\n",
    "            self._crops[name] = curr_crop_weight\n",
    "\n",
    "        curr_crop_weight = curr_crop_weight + crop_weight\n",
    "        self._total_weight += 1\n",
    "\n",
    "    def proportion(self, name):\n",
    "        #return self._crops[name]/self._total_weight\n",
    "        return self._crops[name]"
   ]
  },
  {
   "cell_type": "code",
   "execution_count": 25,
   "metadata": {},
   "outputs": [
    {
     "name": "stdout",
     "output_type": "stream",
     "text": [
      "0\n"
     ]
    }
   ],
   "source": [
    "crop_ratio = CropRatio()\n",
    "crop_ratio.add('Wheat', 4)\n",
    "crop_ratio.add('Wheat', 5)\n",
    "crop_ratio.add('Rice', 1)\n",
    "\n",
    "print(crop_ratio.proportion('Wheat'))"
   ]
  },
  {
   "cell_type": "code",
   "execution_count": null,
   "metadata": {},
   "outputs": [],
   "source": []
  }
 ],
 "metadata": {
  "kernelspec": {
   "display_name": "Python 3",
   "language": "python",
   "name": "python3"
  },
  "language_info": {
   "codemirror_mode": {
    "name": "ipython",
    "version": 3
   },
   "file_extension": ".py",
   "mimetype": "text/x-python",
   "name": "python",
   "nbconvert_exporter": "python",
   "pygments_lexer": "ipython3",
   "version": "3.6.5"
  }
 },
 "nbformat": 4,
 "nbformat_minor": 2
}
